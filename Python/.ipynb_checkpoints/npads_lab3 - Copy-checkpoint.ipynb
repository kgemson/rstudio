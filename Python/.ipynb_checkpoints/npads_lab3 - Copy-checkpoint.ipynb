{
 "cells": [
  {
   "cell_type": "markdown",
   "id": "documentary-married",
   "metadata": {},
   "source": [
    "# NPA Data Science - Introduction to Python Programming\n",
    "### Notebook 3: by michael.ferrie@edinburghcollege.ac.uk - Edinburgh College, March 2021"
   ]
  },
  {
   "cell_type": "markdown",
   "id": "least-correction",
   "metadata": {},
   "source": [
    "## Part 1 - String Manipulation\n",
    "A set of characters between quotation marks in python has the type ```string```\n",
    "* We can check an objects type using the ```type()``` function\n",
    "* All strings have an index value which starts at zero\n",
    "* Run the following examples to see this in action, the examples in this part will use a string variable called ```my_string``` which contains the string ```hello world```"
   ]
  },
  {
   "cell_type": "code",
   "execution_count": 1,
   "id": "clean-postcard",
   "metadata": {},
   "outputs": [
    {
     "name": "stdout",
     "output_type": "stream",
     "text": [
      "hello world\n"
     ]
    }
   ],
   "source": [
    "# Create a variable and print out the value\n",
    "my_string = \"hello world\"\n",
    "print(my_string)"
   ]
  },
  {
   "cell_type": "code",
   "execution_count": 2,
   "id": "continental-indianapolis",
   "metadata": {},
   "outputs": [
    {
     "name": "stdout",
     "output_type": "stream",
     "text": [
      "<class 'str'>\n"
     ]
    }
   ],
   "source": [
    "# Check the type - notice how we can nest functions inside each other\n",
    "print(type(my_string))"
   ]
  },
  {
   "cell_type": "code",
   "execution_count": 3,
   "id": "incomplete-beauty",
   "metadata": {},
   "outputs": [
    {
     "name": "stdout",
     "output_type": "stream",
     "text": [
      "Character h position number is:  0\n",
      "Character e position number is:  1\n",
      "Character l position number is:  2\n",
      "Character l position number is:  3\n",
      "Character o position number is:  4\n",
      "Character   position number is:  5\n",
      "Character w position number is:  6\n",
      "Character o position number is:  7\n",
      "Character r position number is:  8\n",
      "Character l position number is:  9\n",
      "Character d position number is:  10\n"
     ]
    }
   ],
   "source": [
    "# This example will illustrate the index position of the characters in the string \n",
    "# do not worry about understanding the syntax here\n",
    "for index, char in enumerate(my_string):\n",
    "    print(\"Character\", char, \"position number is: \", index)"
   ]
  },
  {
   "cell_type": "markdown",
   "id": "inappropriate-telescope",
   "metadata": {},
   "source": [
    "We can access the positional characters using square brackets\n",
    "* For example ```[0]``` will give us the value at position zero in the string\n",
    "* ```[2]``` will give us the value at position three in the string\n",
    "\n",
    "We also use a negative index counting back from the end, the last character is -1\n",
    "* ```[-1]``` will give us the value at the last position in the string\n",
    "* ```[-2]``` will give us the value at the second last position in the string\n",
    "\n",
    "We can also supply a range of characters by placing the start and end index between a colon\n",
    "* ```[1:3]``` will give us the values from characters 1 to 3 in the string\n",
    "\n",
    "* Run the following examples to see this in action"
   ]
  },
  {
   "cell_type": "code",
   "execution_count": 4,
   "id": "greatest-respect",
   "metadata": {},
   "outputs": [
    {
     "name": "stdout",
     "output_type": "stream",
     "text": [
      "h\n",
      "l\n",
      "d\n",
      "l\n",
      "el\n"
     ]
    }
   ],
   "source": [
    "print(my_string[0])\n",
    "print(my_string[2])\n",
    "print(my_string[-1])\n",
    "print(my_string[2])\n",
    "print(my_string[1:3])"
   ]
  },
  {
   "cell_type": "markdown",
   "id": "lucky-digit",
   "metadata": {},
   "source": [
    "## Part 2 - For Loops\n",
    "When we use python its great being to run short blocks of code but what if we want to computer to complete a task for a given set of instructions, this is where the for loop comes in handy. A for loop will iterate over a sequence of values and perform an actions on each.\n",
    "* Create a for loop with the ```for``` key word\n",
    "* Use a variable to store the values while they are inside the body of the for loop\n",
    "* It is common to use the temporary variable name ```item``` and the keyword ```in```\n",
    "* After the at the end of the for line add a colon ```:``` and then press return, python will automatically indent the next line by 4 spaces, this whitespace is very important, python uses this to enter the body of the loop\n",
    "* Consider the following examples"
   ]
  },
  {
   "cell_type": "code",
   "execution_count": 5,
   "id": "coordinate-median",
   "metadata": {},
   "outputs": [
    {
     "name": "stdout",
     "output_type": "stream",
     "text": [
      "h\n",
      "e\n",
      "l\n",
      "l\n",
      "o\n",
      " \n",
      "w\n",
      "o\n",
      "r\n",
      "l\n",
      "d\n"
     ]
    }
   ],
   "source": [
    "# A simple for loop\n",
    "for item in my_string:\n",
    "    print (item)"
   ]
  },
  {
   "cell_type": "code",
   "execution_count": 6,
   "id": "whole-savings",
   "metadata": {},
   "outputs": [
    {
     "name": "stdout",
     "output_type": "stream",
     "text": [
      "I found a match for l in the string:  l\n",
      "I found a match for l in the string:  l\n",
      "I found a match for l in the string:  l\n"
     ]
    }
   ],
   "source": [
    "# We can use for to hunt for a value by placing a conditional inside it, note there is a second indent after the if\n",
    "for item in my_string:\n",
    "    if item == 'l':\n",
    "        print(\"I found a match for l in the string: \" , item)"
   ]
  },
  {
   "cell_type": "markdown",
   "id": "specific-reynolds",
   "metadata": {},
   "source": [
    "### Part 3: Questions 1\n",
    "* Now that we have seen string indexing and for loops, put this into practice by answering the following questions"
   ]
  },
  {
   "cell_type": "code",
   "execution_count": 2,
   "id": "enabling-breeding",
   "metadata": {},
   "outputs": [],
   "source": [
    "# Run this code cell to create the string for the questions\n",
    "variable_for_questions = \"People major in minor things\""
   ]
  },
  {
   "cell_type": "code",
   "execution_count": 9,
   "id": "subsequent-headline",
   "metadata": {},
   "outputs": [
    {
     "name": "stdout",
     "output_type": "stream",
     "text": [
      "o\n"
     ]
    }
   ],
   "source": [
    "# Q3.1 - Write out the python code to print only the 3rd character of the variable_for_questions\n",
    "# your code here\n",
    "print(variable_for_questions[2])"
   ]
  },
  {
   "cell_type": "code",
   "execution_count": 10,
   "id": "liable-moldova",
   "metadata": {},
   "outputs": [
    {
     "name": "stdout",
     "output_type": "stream",
     "text": [
      "a\n"
     ]
    }
   ],
   "source": [
    "# Q3.2 - Write out the python code to print only the 9th character of the variable_for_questions\n",
    "# your code here\n",
    "print(variable_for_questions[8])"
   ]
  },
  {
   "cell_type": "code",
   "execution_count": 11,
   "id": "architectural-norman",
   "metadata": {},
   "outputs": [
    {
     "name": "stdout",
     "output_type": "stream",
     "text": [
      "n\n"
     ]
    }
   ],
   "source": [
    "# Q3.3 - Write out the python code to print only the 3rd last character of the variable_for_questions, use negative indexing\n",
    "# your code here\n",
    "print(variable_for_questions[-3])"
   ]
  },
  {
   "cell_type": "code",
   "execution_count": 12,
   "id": "connected-government",
   "metadata": {},
   "outputs": [
    {
     "name": "stdout",
     "output_type": "stream",
     "text": [
      "ple m\n"
     ]
    }
   ],
   "source": [
    "# Q3.4 - Write out the python code to print a range of the 4th to 8th characters of the variable_for_questions\n",
    "# your code here\n",
    "print(variable_for_questions[3:8])"
   ]
  },
  {
   "cell_type": "code",
   "execution_count": 3,
   "id": "reduced-stability",
   "metadata": {},
   "outputs": [
    {
     "name": "stdout",
     "output_type": "stream",
     "text": [
      "P\n",
      "e\n",
      "o\n",
      "p\n",
      "l\n",
      "e\n",
      " \n",
      "m\n",
      "a\n",
      "j\n",
      "o\n",
      "r\n",
      " \n",
      "i\n",
      "n\n",
      " \n",
      "m\n",
      "i\n",
      "n\n",
      "o\n",
      "r\n",
      " \n",
      "t\n",
      "h\n",
      "i\n",
      "n\n",
      "g\n",
      "s\n"
     ]
    }
   ],
   "source": [
    "# Q3.5 - Write the python code to loop over the variable_for_questions and print out every character\n",
    "# your code here\n",
    "for item in variable_for_questions:\n",
    "    print(item)"
   ]
  },
  {
   "cell_type": "code",
   "execution_count": 4,
   "id": "illegal-chicago",
   "metadata": {},
   "outputs": [
    {
     "name": "stdout",
     "output_type": "stream",
     "text": [
      "m\n",
      "m\n"
     ]
    }
   ],
   "source": [
    "# Q3.6 - Write the python code to loop over the variable_for_questions and print out every letter m\n",
    "# your code here\n",
    "for item in variable_for_questions:\n",
    "    if (item.lower() == 'm'):\n",
    "        print(item)"
   ]
  },
  {
   "cell_type": "markdown",
   "id": "residential-disposal",
   "metadata": {},
   "source": [
    "### Part 4: Questions 2\n",
    "* Skills integration questions"
   ]
  },
  {
   "cell_type": "code",
   "execution_count": 22,
   "id": "reflected-orbit",
   "metadata": {},
   "outputs": [
    {
     "name": "stdin",
     "output_type": "stream",
     "text": [
      "Please enter your name: Dave\n"
     ]
    },
    {
     "name": "stdout",
     "output_type": "stream",
     "text": [
      "D\n",
      "a\n",
      "v\n",
      "e\n"
     ]
    }
   ],
   "source": [
    "# 4.1 Create a program that will ask the user to input their name, then use a for loop to print out each letter in their name\n",
    "# your code here\n",
    "user_name = input(\"Please enter your name:\")\n",
    "for item in user_name:\n",
    "    print(item)"
   ]
  },
  {
   "cell_type": "code",
   "execution_count": 24,
   "id": "seventh-spanking",
   "metadata": {},
   "outputs": [
    {
     "name": "stdin",
     "output_type": "stream",
     "text": [
      "Please enter your name: David\n"
     ]
    },
    {
     "name": "stdout",
     "output_type": "stream",
     "text": [
      "Sorry, your name doesn't contain an 'e' so we can't print it\n"
     ]
    }
   ],
   "source": [
    "# 4.2 Create a program that will ask the user to input their name, \n",
    "# use a for loop to print out each letter in their name but only if their name contains the letter 'e'\n",
    "# If there is no letter 'e' in their name use the else statement to print an error message\n",
    "# Test the program out by entering 2 names containing the letter e and two without\n",
    "# your code here\n",
    "user_name = input(\"Please enter your name:\")\n",
    "if 'e' in user_name.lower():\n",
    "    for item in user_name:\n",
    "        print(item)\n",
    "else:\n",
    "    print(\"Sorry, your name doesn't contain an 'e' so we can't print it\")"
   ]
  }
 ],
 "metadata": {
  "kernelspec": {
   "display_name": "Python 3 (ipykernel)",
   "language": "python",
   "name": "python3"
  },
  "language_info": {
   "codemirror_mode": {
    "name": "ipython",
    "version": 3
   },
   "file_extension": ".py",
   "mimetype": "text/x-python",
   "name": "python",
   "nbconvert_exporter": "python",
   "pygments_lexer": "ipython3",
   "version": "3.9.7"
  }
 },
 "nbformat": 4,
 "nbformat_minor": 5
}
